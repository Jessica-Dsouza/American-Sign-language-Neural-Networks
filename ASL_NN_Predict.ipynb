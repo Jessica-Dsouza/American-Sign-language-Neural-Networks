{
 "cells": [
  {
   "cell_type": "code",
   "execution_count": 2,
   "metadata": {},
   "outputs": [
    {
     "name": "stderr",
     "output_type": "stream",
     "text": [
      "/Library/Frameworks/Python.framework/Versions/3.10/lib/python3.10/site-packages/requests/__init__.py:109: RequestsDependencyWarning: urllib3 (1.26.9) or chardet (5.1.0)/charset_normalizer (2.0.12) doesn't match a supported version!\n",
      "  warnings.warn(\n"
     ]
    }
   ],
   "source": [
    "import gradio as gr\n",
    "from tensorflow.keras.models import load_model\n",
    "import numpy as np\n",
    "import keras.utils as image\n",
    "\n",
    "class_names=['1','10','2','3','4','5','6','7','8','9','A','B','C','D','E','F','G',\n",
    "             'H','I','J','K','L','M','N','O','P','Q','R','S','T','U','V','W','X','Y',\n",
    "             'Z','Best of luck','I love you','space']"
   ]
  },
  {
   "cell_type": "code",
   "execution_count": 11,
   "metadata": {},
   "outputs": [
    {
     "name": "stderr",
     "output_type": "stream",
     "text": [
      "/Library/Frameworks/Python.framework/Versions/3.10/lib/python3.10/site-packages/gradio/outputs.py:197: UserWarning: Usage of gradio.outputs is deprecated, and will not be supported in the future, please import your components from gradio.components\n",
      "  warnings.warn(\n",
      "/Library/Frameworks/Python.framework/Versions/3.10/lib/python3.10/site-packages/gradio/deprecation.py:40: UserWarning: The 'type' parameter has been deprecated. Use the Number component instead.\n",
      "  warnings.warn(value)\n",
      "/Library/Frameworks/Python.framework/Versions/3.10/lib/python3.10/site-packages/gradio/inputs.py:257: UserWarning: Usage of gradio.inputs is deprecated, and will not be supported in the future, please import your component from gradio.components\n",
      "  warnings.warn(\n",
      "/Library/Frameworks/Python.framework/Versions/3.10/lib/python3.10/site-packages/gradio/deprecation.py:40: UserWarning: `optional` parameter is deprecated, and it has no effect\n",
      "  warnings.warn(value)\n"
     ]
    },
    {
     "name": "stdout",
     "output_type": "stream",
     "text": [
      "Running on local URL:  http://127.0.0.1:7892\n",
      "1/1 [==============================] - 5s 5s/step\n",
      "1/1 [==============================] - 27s 27s/step\n",
      "1/1 [==============================] - 0s 447ms/step\n",
      "1/1 [==============================] - 0s 119ms/step\n",
      "1/1 [==============================] - 0s 164ms/step\n",
      "1/1 [==============================] - 0s 138ms/step\n",
      "1/1 [==============================] - 0s 88ms/step\n",
      "1/1 [==============================] - 0s 116ms/step\n",
      "1/1 [==============================] - 0s 234ms/step\n",
      "1/1 [==============================] - 0s 113ms/step\n",
      "1/1 [==============================] - 0s 92ms/step\n",
      "1/1 [==============================] - 0s 97ms/step\n",
      "1/1 [==============================] - 0s 76ms/step\n",
      "1/1 [==============================] - 0s 118ms/step\n",
      "1/1 [==============================] - 0s 266ms/step\n",
      "1/1 [==============================] - 0s 85ms/step\n",
      "1/1 [==============================] - 0s 75ms/step\n",
      "1/1 [==============================] - 0s 114ms/step\n",
      "1/1 [==============================] - 0s 103ms/step\n",
      "1/1 [==============================] - 0s 165ms/step\n",
      "1/1 [==============================] - 0s 98ms/step\n",
      "1/1 [==============================] - 0s 98ms/step\n",
      "1/1 [==============================] - 0s 204ms/step\n",
      "1/1 [==============================] - 0s 89ms/step\n",
      "1/1 [==============================] - 0s 168ms/step\n",
      "1/1 [==============================] - 0s 127ms/step\n",
      "1/1 [==============================] - 0s 183ms/step\n",
      "1/1 [==============================] - 0s 116ms/step\n"
     ]
    },
    {
     "ename": "KeyboardInterrupt",
     "evalue": "",
     "output_type": "error",
     "traceback": [
      "\u001b[0;31m---------------------------------------------------------------------------\u001b[0m",
      "\u001b[0;31mKeyboardInterrupt\u001b[0m                         Traceback (most recent call last)",
      "\u001b[1;32m/Users/tony/Library/CloudStorage/OneDrive-Personal/Coding Projects/Github/American-Sign-language-Neural-Networks/ASL_NN_Predict.ipynb Cell 2\u001b[0m in \u001b[0;36m<module>\u001b[0;34m\u001b[0m\n\u001b[1;32m     <a href='vscode-notebook-cell:/Users/tony/Library/CloudStorage/OneDrive-Personal/Coding%20Projects/Github/American-Sign-language-Neural-Networks/ASL_NN_Predict.ipynb#W3sZmlsZQ%3D%3D?line=38'>39</a>\u001b[0m outputs \u001b[39m=\u001b[39m [label_vgg, label_resnet]\n\u001b[1;32m     <a href='vscode-notebook-cell:/Users/tony/Library/CloudStorage/OneDrive-Personal/Coding%20Projects/Github/American-Sign-language-Neural-Networks/ASL_NN_Predict.ipynb#W3sZmlsZQ%3D%3D?line=40'>41</a>\u001b[0m interface \u001b[39m=\u001b[39m gr\u001b[39m.\u001b[39mInterface(\n\u001b[1;32m     <a href='vscode-notebook-cell:/Users/tony/Library/CloudStorage/OneDrive-Personal/Coding%20Projects/Github/American-Sign-language-Neural-Networks/ASL_NN_Predict.ipynb#W3sZmlsZQ%3D%3D?line=41'>42</a>\u001b[0m     fn\u001b[39m=\u001b[39mpredict_image,\n\u001b[1;32m     <a href='vscode-notebook-cell:/Users/tony/Library/CloudStorage/OneDrive-Personal/Coding%20Projects/Github/American-Sign-language-Neural-Networks/ASL_NN_Predict.ipynb#W3sZmlsZQ%3D%3D?line=42'>43</a>\u001b[0m     inputs\u001b[39m=\u001b[39minputs,\n\u001b[1;32m     <a href='vscode-notebook-cell:/Users/tony/Library/CloudStorage/OneDrive-Personal/Coding%20Projects/Github/American-Sign-language-Neural-Networks/ASL_NN_Predict.ipynb#W3sZmlsZQ%3D%3D?line=43'>44</a>\u001b[0m     outputs\u001b[39m=\u001b[39moutputs,\n\u001b[1;32m     <a href='vscode-notebook-cell:/Users/tony/Library/CloudStorage/OneDrive-Personal/Coding%20Projects/Github/American-Sign-language-Neural-Networks/ASL_NN_Predict.ipynb#W3sZmlsZQ%3D%3D?line=44'>45</a>\u001b[0m     title\u001b[39m=\u001b[39m\u001b[39m\"\u001b[39m\u001b[39mPredict the Sign Language!\u001b[39m\u001b[39m\"\u001b[39m,\n\u001b[1;32m     <a href='vscode-notebook-cell:/Users/tony/Library/CloudStorage/OneDrive-Personal/Coding%20Projects/Github/American-Sign-language-Neural-Networks/ASL_NN_Predict.ipynb#W3sZmlsZQ%3D%3D?line=45'>46</a>\u001b[0m )\n\u001b[0;32m---> <a href='vscode-notebook-cell:/Users/tony/Library/CloudStorage/OneDrive-Personal/Coding%20Projects/Github/American-Sign-language-Neural-Networks/ASL_NN_Predict.ipynb#W3sZmlsZQ%3D%3D?line=47'>48</a>\u001b[0m interface\u001b[39m.\u001b[39;49mlaunch(share\u001b[39m=\u001b[39;49m\u001b[39mTrue\u001b[39;49;00m)\n",
      "File \u001b[0;32m/Library/Frameworks/Python.framework/Versions/3.10/lib/python3.10/site-packages/gradio/blocks.py:1542\u001b[0m, in \u001b[0;36mBlocks.launch\u001b[0;34m(self, inline, inbrowser, share, debug, enable_queue, max_threads, auth, auth_message, prevent_thread_lock, show_error, server_name, server_port, show_tips, height, width, encrypt, favicon_path, ssl_keyfile, ssl_certfile, ssl_keyfile_password, quiet, show_api, file_directories, _frontend)\u001b[0m\n\u001b[1;32m   1540\u001b[0m \u001b[39mtry\u001b[39;00m:\n\u001b[1;32m   1541\u001b[0m     \u001b[39mif\u001b[39;00m \u001b[39mself\u001b[39m\u001b[39m.\u001b[39mshare_url \u001b[39mis\u001b[39;00m \u001b[39mNone\u001b[39;00m:\n\u001b[0;32m-> 1542\u001b[0m         \u001b[39mself\u001b[39m\u001b[39m.\u001b[39mshare_url \u001b[39m=\u001b[39m networking\u001b[39m.\u001b[39;49msetup_tunnel(\n\u001b[1;32m   1543\u001b[0m             \u001b[39mself\u001b[39;49m\u001b[39m.\u001b[39;49mserver_name, \u001b[39mself\u001b[39;49m\u001b[39m.\u001b[39;49mserver_port, \u001b[39mself\u001b[39;49m\u001b[39m.\u001b[39;49mshare_token\n\u001b[1;32m   1544\u001b[0m         )\n\u001b[1;32m   1545\u001b[0m     \u001b[39mprint\u001b[39m(strings\u001b[39m.\u001b[39men[\u001b[39m\"\u001b[39m\u001b[39mSHARE_LINK_DISPLAY\u001b[39m\u001b[39m\"\u001b[39m]\u001b[39m.\u001b[39mformat(\u001b[39mself\u001b[39m\u001b[39m.\u001b[39mshare_url))\n\u001b[1;32m   1546\u001b[0m     \u001b[39mif\u001b[39;00m \u001b[39mnot\u001b[39;00m (quiet):\n",
      "File \u001b[0;32m/Library/Frameworks/Python.framework/Versions/3.10/lib/python3.10/site-packages/gradio/networking.py:168\u001b[0m, in \u001b[0;36msetup_tunnel\u001b[0;34m(local_host, local_port, share_token)\u001b[0m\n\u001b[1;32m    164\u001b[0m     remote_host, remote_port \u001b[39m=\u001b[39m payload[\u001b[39m\"\u001b[39m\u001b[39mhost\u001b[39m\u001b[39m\"\u001b[39m], \u001b[39mint\u001b[39m(payload[\u001b[39m\"\u001b[39m\u001b[39mport\u001b[39m\u001b[39m\"\u001b[39m])\n\u001b[1;32m    165\u001b[0m     tunnel \u001b[39m=\u001b[39m Tunnel(\n\u001b[1;32m    166\u001b[0m         remote_host, remote_port, local_host, local_port, share_token\n\u001b[1;32m    167\u001b[0m     )\n\u001b[0;32m--> 168\u001b[0m     address \u001b[39m=\u001b[39m tunnel\u001b[39m.\u001b[39;49mstart_tunnel()\n\u001b[1;32m    169\u001b[0m     \u001b[39mreturn\u001b[39;00m address\n\u001b[1;32m    170\u001b[0m \u001b[39mexcept\u001b[39;00m \u001b[39mException\u001b[39;00m \u001b[39mas\u001b[39;00m e:\n",
      "File \u001b[0;32m/Library/Frameworks/Python.framework/Versions/3.10/lib/python3.10/site-packages/gradio/tunneling.py:61\u001b[0m, in \u001b[0;36mTunnel.start_tunnel\u001b[0;34m(self)\u001b[0m\n\u001b[1;32m     59\u001b[0m \u001b[39mdef\u001b[39;00m \u001b[39mstart_tunnel\u001b[39m(\u001b[39mself\u001b[39m) \u001b[39m-\u001b[39m\u001b[39m>\u001b[39m \u001b[39mstr\u001b[39m:\n\u001b[1;32m     60\u001b[0m     binary_path \u001b[39m=\u001b[39m \u001b[39mself\u001b[39m\u001b[39m.\u001b[39mdownload_binary()\n\u001b[0;32m---> 61\u001b[0m     \u001b[39mself\u001b[39m\u001b[39m.\u001b[39murl \u001b[39m=\u001b[39m \u001b[39mself\u001b[39;49m\u001b[39m.\u001b[39;49m_start_tunnel(binary_path)\n\u001b[1;32m     62\u001b[0m     \u001b[39mreturn\u001b[39;00m \u001b[39mself\u001b[39m\u001b[39m.\u001b[39murl\n",
      "File \u001b[0;32m/Library/Frameworks/Python.framework/Versions/3.10/lib/python3.10/site-packages/gradio/tunneling.py:97\u001b[0m, in \u001b[0;36mTunnel._start_tunnel\u001b[0;34m(self, binary)\u001b[0m\n\u001b[1;32m     95\u001b[0m \u001b[39mif\u001b[39;00m \u001b[39mself\u001b[39m\u001b[39m.\u001b[39mproc\u001b[39m.\u001b[39mstdout \u001b[39mis\u001b[39;00m \u001b[39mNone\u001b[39;00m:\n\u001b[1;32m     96\u001b[0m     \u001b[39mcontinue\u001b[39;00m\n\u001b[0;32m---> 97\u001b[0m line \u001b[39m=\u001b[39m \u001b[39mself\u001b[39;49m\u001b[39m.\u001b[39;49mproc\u001b[39m.\u001b[39;49mstdout\u001b[39m.\u001b[39;49mreadline()\n\u001b[1;32m     98\u001b[0m line \u001b[39m=\u001b[39m line\u001b[39m.\u001b[39mdecode(\u001b[39m\"\u001b[39m\u001b[39mutf-8\u001b[39m\u001b[39m\"\u001b[39m)\n\u001b[1;32m     99\u001b[0m \u001b[39mif\u001b[39;00m \u001b[39m\"\u001b[39m\u001b[39mstart proxy success\u001b[39m\u001b[39m\"\u001b[39m \u001b[39min\u001b[39;00m line:\n",
      "\u001b[0;31mKeyboardInterrupt\u001b[0m: "
     ]
    }
   ],
   "source": [
    "# Shows 2 output boxes at the end\n",
    "# Load the saved models\n",
    "model_VGG = load_model('model_vgg16.h5')\n",
    "model_ResNet = load_model('model_resnet.h5')\n",
    "\n",
    "label_vgg = gr.outputs.Label(label=\"VGG16 Prediction\")\n",
    "label_resnet = gr.outputs.Label(label=\"ResNet50 Prediction\")\n",
    "\n",
    "def predict_image(inputs):\n",
    "    res=[]\n",
    "    #print(img.shape)\n",
    "\n",
    "    img_4d=inputs.reshape(-1,64,64,3)\n",
    "\n",
    "    resultVGG = model_VGG.predict(img_4d)\n",
    "\n",
    "    resultResnet = model_ResNet.predict(img_4d)\n",
    "\n",
    "    prediction_vgg = None\n",
    "    prediction_resnet = None\n",
    "\n",
    "\n",
    "    for i,j in enumerate(range(resultVGG.shape[1])):\n",
    "        if resultVGG[0][i]==1.0:\n",
    "        \n",
    "            prediction_vgg=class_names[j]\n",
    "\n",
    "        if resultResnet[0][i]==1.0:\n",
    "\n",
    "            prediction_resnet=class_names[j]\n",
    " \n",
    "    \n",
    "    return prediction_vgg, prediction_resnet\n",
    "\n",
    "inputs = gr.inputs.Image(shape=(64,64),label=\"Select an image\")\n",
    "\n",
    "label = gr.outputs.Label(label=\"Prediction\")\n",
    "\n",
    "outputs = [label_vgg, label_resnet]\n",
    "\n",
    "interface = gr.Interface(\n",
    "    fn=predict_image,\n",
    "    inputs=inputs,\n",
    "    outputs=outputs,\n",
    "    title=\"Predict the Sign Language!\",\n",
    ")\n",
    "\n",
    "interface.launch(share=True)\n"
   ]
  }
 ],
 "metadata": {
  "kernelspec": {
   "display_name": "Python 3",
   "language": "python",
   "name": "python3"
  },
  "language_info": {
   "codemirror_mode": {
    "name": "ipython",
    "version": 3
   },
   "file_extension": ".py",
   "mimetype": "text/x-python",
   "name": "python",
   "nbconvert_exporter": "python",
   "pygments_lexer": "ipython3",
   "version": "3.10.2"
  },
  "orig_nbformat": 4,
  "vscode": {
   "interpreter": {
    "hash": "aee8b7b246df8f9039afb4144a1f6fd8d2ca17a180786b69acc140d282b71a49"
   }
  }
 },
 "nbformat": 4,
 "nbformat_minor": 2
}
