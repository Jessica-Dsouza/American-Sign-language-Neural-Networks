{
 "cells": [
  {
   "cell_type": "code",
   "execution_count": 4,
   "metadata": {},
   "outputs": [],
   "source": [
    "import gradio as gr\n",
    "import tensorflow as tf\n",
    "from tensorflow.keras.models import load_model\n",
    "import numpy as np\n",
    "import keras.utils as image\n",
    "\n",
    "class_names=['1','10','2','3','4','5','6','7','8','9','A','B','C','D','E','F','G',\n",
    "             'H','I','J','K','L','M','N','O','P','Q','R','S','T','U','V','W','X','Y',\n",
    "             'Z','Best of luck','I love you','space']"
   ]
  },
  {
   "cell_type": "code",
   "execution_count": 5,
   "metadata": {},
   "outputs": [],
   "source": [
    "# Load the models\n",
    "model_VGG=tf.keras.models.load_model('model_vgg16.h5',compile=False)\n",
    "model_ResNet=tf.keras.models.load_model('model_resnet.h5',compile=False)\n",
    "\n",
    "model_VGG.compile(optimizer='adam', loss='categorical_crossentropy', metrics=['accuracy'])\n",
    "model_ResNet.compile(optimizer='adam', loss='categorical_crossentropy', metrics=['accuracy'])"
   ]
  },
  {
   "cell_type": "code",
   "execution_count": 6,
   "metadata": {},
   "outputs": [
    {
     "name": "stderr",
     "output_type": "stream",
     "text": [
      "/Library/Frameworks/Python.framework/Versions/3.10/lib/python3.10/site-packages/gradio/outputs.py:197: UserWarning: Usage of gradio.outputs is deprecated, and will not be supported in the future, please import your components from gradio.components\n",
      "  warnings.warn(\n",
      "/Library/Frameworks/Python.framework/Versions/3.10/lib/python3.10/site-packages/gradio/deprecation.py:40: UserWarning: The 'type' parameter has been deprecated. Use the Number component instead.\n",
      "  warnings.warn(value)\n",
      "/Library/Frameworks/Python.framework/Versions/3.10/lib/python3.10/site-packages/gradio/inputs.py:257: UserWarning: Usage of gradio.inputs is deprecated, and will not be supported in the future, please import your component from gradio.components\n",
      "  warnings.warn(\n",
      "/Library/Frameworks/Python.framework/Versions/3.10/lib/python3.10/site-packages/gradio/deprecation.py:40: UserWarning: `optional` parameter is deprecated, and it has no effect\n",
      "  warnings.warn(value)\n"
     ]
    },
    {
     "name": "stdout",
     "output_type": "stream",
     "text": [
      "Running on local URL:  http://127.0.0.1:7861\n",
      "1/1 [==============================] - 2s 2s/step\n",
      "1/1 [==============================] - 9s 9s/step\n",
      "1/1 [==============================] - 0s 348ms/step\n",
      "1/1 [==============================] - 0s 170ms/step\n"
     ]
    }
   ],
   "source": [
    "# Shows 2 output boxes at the end\n",
    "\n",
    "label_vgg = gr.outputs.Label(label=\"VGG16 Prediction\")\n",
    "label_resnet = gr.outputs.Label(label=\"ResNet50 Prediction\")\n",
    "\n",
    "def predict_image(inputs):\n",
    "    res=[]\n",
    "    #print(img.shape)\n",
    "\n",
    "    img_4d=inputs.reshape(-1,64,64,3)\n",
    "\n",
    "    resultVGG = model_VGG.predict(img_4d)\n",
    "\n",
    "    resultResnet = model_ResNet.predict(img_4d)\n",
    "\n",
    "    prediction_vgg = None\n",
    "    prediction_resnet = None\n",
    "\n",
    "\n",
    "    for i,j in enumerate(range(resultVGG.shape[1])):\n",
    "        if resultVGG[0][i]==np.max(resultVGG[0]):\n",
    "        \n",
    "            prediction_vgg=class_names[j]\n",
    "\n",
    "        if resultResnet[0][i]==np.max(resultResnet[0]):\n",
    "\n",
    "            prediction_resnet=class_names[j]\n",
    " \n",
    "    \n",
    "    return prediction_vgg, prediction_resnet\n",
    "\n",
    "inputs = gr.inputs.Image(shape=(64,64),label=\"Select an image\")\n",
    "\n",
    "label = gr.outputs.Label(label=\"Prediction\")\n",
    "\n",
    "outputs = [label_vgg, label_resnet]\n",
    "\n",
    "interface = gr.Interface(\n",
    "    fn=predict_image,\n",
    "    inputs=inputs,\n",
    "    outputs=outputs,\n",
    "    title=\"Predict the Sign Language!\",\n",
    ")\n",
    "\n",
    "interface.launch(share=True,debug=False)\n"
   ]
  }
 ],
 "metadata": {
  "kernelspec": {
   "display_name": "Python 3",
   "language": "python",
   "name": "python3"
  },
  "language_info": {
   "codemirror_mode": {
    "name": "ipython",
    "version": 3
   },
   "file_extension": ".py",
   "mimetype": "text/x-python",
   "name": "python",
   "nbconvert_exporter": "python",
   "pygments_lexer": "ipython3",
   "version": "3.10.2"
  },
  "orig_nbformat": 4,
  "vscode": {
   "interpreter": {
    "hash": "aee8b7b246df8f9039afb4144a1f6fd8d2ca17a180786b69acc140d282b71a49"
   }
  }
 },
 "nbformat": 4,
 "nbformat_minor": 2
}
